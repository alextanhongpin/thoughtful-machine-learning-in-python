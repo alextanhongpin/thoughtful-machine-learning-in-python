{
 "cells": [
  {
   "cell_type": "code",
   "execution_count": 229,
   "metadata": {},
   "outputs": [],
   "source": [
    "import numpy as np\n",
    "\n",
    "# http://www.blackarbs.com/blog/introduction-hidden-markov-models-python-networkx-sklearn/2/9/2017"
   ]
  },
  {
   "cell_type": "code",
   "execution_count": 244,
   "metadata": {},
   "outputs": [],
   "source": [
    "def viterbi(O, S, pi, A, B):\n",
    "    \"\"\"\n",
    "    O: observation space\n",
    "    S: state space\n",
    "    pi: initial probabilities\n",
    "    y: sequence of observations\n",
    "    A: transition matrix. 2d array with A[from_state][to_state]\n",
    "    B: emission matrix. 2d array with B[state_i][observation_j]\n",
    "    \"\"\"\n",
    "    \n",
    "    K, T = len(S), len(O)\n",
    "    \n",
    "    # Stores the probability of the most likely path so far.\n",
    "    T1 = np.zeros((K, T))\n",
    "    \n",
    "    # Stores the argmax of the most probable path.\n",
    "    T2 = np.zeros((K, T))\n",
    "    \n",
    "    # Initial states for initial observation.\n",
    "    T1[:, 0] = pi * B[:, O[0]]\n",
    "    \n",
    "    for j in range(1, T):\n",
    "        for i in range(K):\n",
    "            p = T1[:, j-1] * A[:, i]\n",
    "            T1[i, j] = np.max(p * B[i, O[j]])\n",
    "            T2[i, j] = np.argmax(p)\n",
    "    \n",
    "    # Paths.\n",
    "    z = np.zeros(T).astype(np.int)\n",
    "    z[-1] = np.argmax(T1[:, -1])\n",
    "    \n",
    "    for j in range(T-2, -1, -1):\n",
    "        z[j] = T2[z[j+1], j+1]\n",
    "    return z, T1, T2"
   ]
  },
  {
   "cell_type": "code",
   "execution_count": 247,
   "metadata": {},
   "outputs": [],
   "source": [
    "states_dict = {\n",
    "    0: 'healthy', 1: 'sick'\n",
    "}\n",
    "obs = [0,1,2] # 0: sleeping, 1: eating, 2: pooping\n",
    "obs_space = [1,1,2,1,0,1,2,1,0,2,2,0,1,0,1]\n",
    "obs_dict = {\n",
    "    0: 'sleeping', \n",
    "    1: 'eating',\n",
    "    2: 'pooping'\n",
    "}\n",
    "states = (0, 1) # healthy, sick\n",
    "start_p = np.array([0.5, 0.5])\n",
    "trans_p = np.array([[0.7, 0.3],\n",
    "                    [0.4, 0.6]])\n",
    "emit_p = np.array([[0.2, 0.6, 0.2],\n",
    "                   [0.4, 0.1, 0.5]])"
   ]
  },
  {
   "cell_type": "code",
   "execution_count": 248,
   "metadata": {},
   "outputs": [
    {
     "name": "stdout",
     "output_type": "stream",
     "text": [
      "[1 0 1]\n",
      "sleeping   -> sick\n",
      "eating     -> healthy\n",
      "pooping    -> sick\n"
     ]
    }
   ],
   "source": [
    "paths, _, _ = viterbi(obs, states, start_p, trans_p, emit_p)\n",
    "\n",
    "print(paths)\n",
    "for i, p in enumerate(paths):\n",
    "    print(f'{obs_dict[obs[i]]:10} -> {states_dict[p]}')"
   ]
  },
  {
   "cell_type": "code",
   "execution_count": 258,
   "metadata": {},
   "outputs": [
    {
     "name": "stdout",
     "output_type": "stream",
     "text": [
      "normal   -> Healthy\n",
      "cold     -> Healthy\n",
      "dizzy    -> Fever\n",
      "\n",
      "[[0.3     0.084   0.00588]\n",
      " [0.04    0.027   0.01512]]\n",
      "[[0. 0. 0.]\n",
      " [0. 0. 0.]]\n"
     ]
    }
   ],
   "source": [
    "obs = (0, 1, 2) # 0: normal, 1: cold, 2: dizzy\n",
    "obs_map = {\n",
    "    0: 'normal',\n",
    "    1: 'cold',\n",
    "    2: 'dizzy'\n",
    "}\n",
    "states_map = {\n",
    "    0: 'Healthy',\n",
    "    1: 'Fever'\n",
    "}\n",
    "states = (0, 1) # 0: Healthy, 1: Fever\n",
    "\n",
    "# start_p[initial_state]\n",
    "start_p = np.array([0.6, 0.4])\n",
    "\n",
    "# trans_p[from_state][to_state]\n",
    "trans_p = np.array([[0.7, 0.3],\n",
    "                    [0.4, 0.6]])\n",
    "\n",
    "# emit_p[state][observation]\n",
    "emit_p = np.array([[0.5, 0.4, 0.1],\n",
    "                   [0.1, 0.3, 0.6]])\n",
    "\n",
    "paths, result, t2 = viterbi(obs, states, start_p, trans_p, emit_p)\n",
    "for i, p in enumerate(paths):\n",
    "    print(f'{obs_map[obs[i]]:8s} -> {states_map[states[p]]}')\n",
    "print()\n",
    "print(result)\n",
    "print(t2)"
   ]
  },
  {
   "cell_type": "code",
   "execution_count": 259,
   "metadata": {},
   "outputs": [
    {
     "name": "stdout",
     "output_type": "stream",
     "text": [
      "[0 0 1 1 1]\n",
      "normal   -> Healthy\n",
      "cold     -> Healthy\n",
      "dizzy    -> Fever\n",
      "cold     -> Fever\n",
      "dizzy    -> Fever\n",
      "\n",
      "[[3.00000e-01 8.40000e-02 5.88000e-03 2.41920e-03 1.69344e-04]\n",
      " [4.00000e-02 2.70000e-02 1.51200e-02 2.72160e-03 9.79776e-04]]\n",
      "[[0. 0. 0. 1. 0.]\n",
      " [0. 0. 0. 1. 1.]]\n"
     ]
    }
   ],
   "source": [
    "obs = (0, 1, 2, 1, 2) # 0: normal, 1: cold, 2: dizzy\n",
    "states = (0, 1) # 0: Healthy, 1: Fever\n",
    "\n",
    "# start_p[initial_state]\n",
    "start_p = np.array([0.6, 0.4])\n",
    "\n",
    "# trans_p[from_state][to_state]\n",
    "trans_p = np.array([[0.7, 0.3],\n",
    "                    [0.4, 0.6]])\n",
    "\n",
    "# emit_p[state][observation]\n",
    "emit_p = np.array([[0.5, 0.4, 0.1],\n",
    "                   [0.1, 0.3, 0.6]])\n",
    "\n",
    "paths, result, t2 = viterbi(obs, states, start_p, trans_p, emit_p)\n",
    "print(paths)\n",
    "for i, p in enumerate(paths):\n",
    "    print(f'{obs_map[obs[i]]:8s} -> {states_map[states[p]]}')\n",
    "print()\n",
    "print(result)\n",
    "print(t2)"
   ]
  },
  {
   "cell_type": "code",
   "execution_count": 260,
   "metadata": {},
   "outputs": [
    {
     "name": "stdout",
     "output_type": "stream",
     "text": [
      "[0 1 1 1 1]\n",
      "normal   -> Healthy\n",
      "dizzy    -> Fever\n",
      "cold     -> Fever\n",
      "dizzy    -> Fever\n",
      "cold     -> Fever\n",
      "\n",
      "[[0.3        0.021      0.00864    0.0006048  0.00055987]\n",
      " [0.04       0.054      0.00972    0.0034992  0.00062986]]\n",
      "[[0. 0. 1. 0. 1.]\n",
      " [0. 0. 1. 1. 1.]]\n"
     ]
    }
   ],
   "source": [
    "obs = (0, 2, 1, 2, 1) # 0: normal, 1: cold, 2: dizzy\n",
    "states = (0, 1) # 0: Healthy, 1: Fever\n",
    "\n",
    "# start_p[initial_state]\n",
    "start_p = np.array([0.6, 0.4])\n",
    "\n",
    "# trans_p[from_state][to_state]\n",
    "trans_p = np.array([[0.7, 0.3],\n",
    "                    [0.4, 0.6]])\n",
    "\n",
    "# emit_p[state][observation]\n",
    "emit_p = np.array([[0.5, 0.4, 0.1],\n",
    "                   [0.1, 0.3, 0.6]])\n",
    "\n",
    "paths, result, t2 = viterbi(obs, states, start_p, trans_p, emit_p)\n",
    "print(paths)\n",
    "for i, p in enumerate(paths):\n",
    "    print(f'{obs_map[obs[i]]:8s} -> {states_map[states[p]]}')\n",
    "print()\n",
    "print(result)\n",
    "print(t2)"
   ]
  },
  {
   "cell_type": "code",
   "execution_count": null,
   "metadata": {},
   "outputs": [],
   "source": []
  }
 ],
 "metadata": {
  "kernelspec": {
   "display_name": "Python 3",
   "language": "python",
   "name": "python3"
  },
  "language_info": {
   "codemirror_mode": {
    "name": "ipython",
    "version": 3
   },
   "file_extension": ".py",
   "mimetype": "text/x-python",
   "name": "python",
   "nbconvert_exporter": "python",
   "pygments_lexer": "ipython3",
   "version": "3.7.3"
  }
 },
 "nbformat": 4,
 "nbformat_minor": 2
}
