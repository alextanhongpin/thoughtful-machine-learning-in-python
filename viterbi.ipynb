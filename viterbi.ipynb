{
 "cells": [
  {
   "cell_type": "code",
   "execution_count": 411,
   "metadata": {},
   "outputs": [],
   "source": [
    "import numpy as np"
   ]
  },
  {
   "cell_type": "code",
   "execution_count": 412,
   "metadata": {},
   "outputs": [],
   "source": [
    "obs = ('normal', 'cold', 'dizzy')\n",
    "states = ('Healthy', 'Fever')\n",
    "start_p = {'Healthy': 0.6,\n",
    "           'Fever': 0.4}\n",
    "trans_p = {'Healthy': {'Healthy': 0.7, 'Fever': 0.3},\n",
    "           'Fever': {'Healthy': 0.4, 'Fever': 0.6}}\n",
    "emit_p = {'Healthy': {'normal': 0.5, 'cold': 0.4, 'dizzy': 0.1},\n",
    "          'Fever': {'normal': 0.1, 'cold': 0.3, 'dizzy': 0.6}}"
   ]
  },
  {
   "cell_type": "code",
   "execution_count": 413,
   "metadata": {},
   "outputs": [],
   "source": [
    "def viterbi(obs, \n",
    "            states, \n",
    "            start_p,\n",
    "            observations,\n",
    "            trans_p,\n",
    "            emit_p):\n",
    "    V = [{}]\n",
    "    # We are going to iterate through all the observations,\n",
    "    # starting from normal. \n",
    "    # Calculate the probability for the given states.\n",
    "    for i, st in enumerate(states):\n",
    "        V[0][st] = {'prob': start_p[st] * emit_p[st][obs[0]], \n",
    "                    'prev': None} \n",
    "        \n",
    "    # For the rest of the observations.\n",
    "    for t in range(1, len(obs)):\n",
    "        V.append({})\n",
    "        for st in states:\n",
    "            # Take the first state and calculate the probability.\n",
    "            # Use it as the initial guess.\n",
    "            max_tr_prob = V[t-1][states[0]]['prob'] * trans_p[states[0]][st]\n",
    "            prev_st_selected = states[0]\n",
    "\n",
    "            # Now loop through the remaining states and compare the probability.\n",
    "            # Take the one with the highest probability.\n",
    "            for prev_st in states[1:]:\n",
    "                tr_prob = V[t-1][prev_st]['prob'] * trans_p[prev_st][st]\n",
    "                if tr_prob > max_tr_prob:\n",
    "                    max_tr_prob = tr_prob\n",
    "                    prev_st_selected = prev_st\n",
    "\n",
    "            max_prob = max_tr_prob * emit_p[st][obs[t]]\n",
    "            V[t][st] = {'prob': max_prob,\n",
    "                        'prev': prev_st_selected}\n",
    "    for line in dptable(V):\n",
    "        print(line)\n",
    "\n",
    "    opt = []\n",
    "    # The highest probability.\n",
    "    max_prob = max(value['prob']\n",
    "                   for value in V[-1].values())\n",
    "    max_prob\n",
    "    # Get the most probable state and its backtrack.\n",
    "    for st, data in V[-1].items():\n",
    "        if data['prob'] == max_prob:\n",
    "            opt.append(st)\n",
    "            previous = st\n",
    "            break\n",
    "    # Follow the backtrack until the first observation. \n",
    "    # Minus 2, since we exclude the last result.\n",
    "    for t in range(len(V) - 2, -1, -1):\n",
    "        opt.insert(0, V[t+1][previous]['prev'])\n",
    "        previous = V[t+1][previous]['prev']\n",
    "    return f'The step of states are {\" \".join(opt)} with the probability of {max_prob}'"
   ]
  },
  {
   "cell_type": "code",
   "execution_count": 414,
   "metadata": {},
   "outputs": [],
   "source": [
    "def dptable(V):\n",
    "    header = [f'{\"\":12s}'] + [f'{str(i):12s}' for i in range(len(V))]\n",
    "    yield ' '.join(header)\n",
    "    \n",
    "    for state in V[0].keys():\n",
    "        row = [f'{state:12s}'] + [f'{str(round(d[state][\"prob\"], 5)):12s}' \n",
    "                                  for d in V]\n",
    "        yield ' '.join(row)"
   ]
  },
  {
   "cell_type": "code",
   "execution_count": 415,
   "metadata": {},
   "outputs": [
    {
     "name": "stdout",
     "output_type": "stream",
     "text": [
      "             0            1            2           \n",
      "Healthy      0.3          0.084        0.00588     \n",
      "Fever        0.04         0.027        0.01512     \n"
     ]
    },
    {
     "data": {
      "text/plain": [
       "'The step of states are Healthy Healthy Fever with the probability of 0.01512'"
      ]
     },
     "execution_count": 415,
     "metadata": {},
     "output_type": "execute_result"
    }
   ],
   "source": [
    "viterbi(obs, states, start_p, obs, trans_p, emit_p)"
   ]
  },
  {
   "cell_type": "code",
   "execution_count": 444,
   "metadata": {},
   "outputs": [
    {
     "ename": "SyntaxError",
     "evalue": "invalid syntax (<ipython-input-444-11503c346e97>, line 1)",
     "output_type": "error",
     "traceback": [
      "\u001b[0;36m  File \u001b[0;32m\"<ipython-input-444-11503c346e97>\"\u001b[0;36m, line \u001b[0;32m1\u001b[0m\n\u001b[0;31m    viterbi([obs[i] for i in [1,2,0,1,2]]), states, start_p, obs, trans_p, emit_p)\u001b[0m\n\u001b[0m                                                                                 ^\u001b[0m\n\u001b[0;31mSyntaxError\u001b[0m\u001b[0;31m:\u001b[0m invalid syntax\n"
     ]
    }
   ],
   "source": [
    "viterbi([obs[i] for i in [1,2,0,1,2]]), states, start_p, obs, trans_p, emit_p)"
   ]
  },
  {
   "cell_type": "code",
   "execution_count": 417,
   "metadata": {},
   "outputs": [],
   "source": [
    "import numpy as np\n",
    "\n",
    "# http://www.blackarbs.com/blog/introduction-hidden-markov-models-python-networkx-sklearn/2/9/2017"
   ]
  },
  {
   "cell_type": "code",
   "execution_count": 430,
   "metadata": {},
   "outputs": [],
   "source": [
    "def viterbi(O, S, pi, A, B):\n",
    "    \"\"\"\n",
    "    O: observation space\n",
    "    S: state space\n",
    "    pi: initial probabilities\n",
    "    y: sequence of observations\n",
    "    A: transition matrix. 2d array with A[from_state][to_state]\n",
    "    B: emission matrix. 2d array with B[state_i][observation_j]\n",
    "    \"\"\"\n",
    "    \n",
    "    K, T = len(S), len(O)\n",
    "    \n",
    "    # Stores the probability of the most likely path so far.\n",
    "    T1 = np.zeros((K, T))\n",
    "    \n",
    "    # Stores the argmax of the most probable path.\n",
    "    T2 = np.zeros((K, T))\n",
    "    \n",
    "    # Initial states for initial observation.\n",
    "    T1[:, 0] = pi * B[:, O[0]]\n",
    "    \n",
    "    for j in range(1, T):\n",
    "        for i in range(K):\n",
    "            p = T1[:, j-1] * A[:, i]\n",
    "            T1[i, j] = np.max(p * B[i, O[j]])\n",
    "            T2[i, j] = np.argmax(p * A[:, i])\n",
    "    \n",
    "    # Paths.\n",
    "    z = np.zeros(T).astype(np.int)\n",
    "    z[-1] = np.argmax(T1[:, -1])\n",
    "    \n",
    "#     prev = z[-1]\n",
    "    for j in range(T-2, -1, -1):\n",
    "        z[j] = T2[z[j+1], j]\n",
    "#         z[j] = T2[z[j+1], prev]\n",
    "#         prev = z[j]\n",
    "    return z, T1, T2"
   ]
  },
  {
   "cell_type": "code",
   "execution_count": 431,
   "metadata": {},
   "outputs": [],
   "source": [
    "states_dict = {\n",
    "    0: 'healthy', 1: 'sick'\n",
    "}\n",
    "obs = [1,1,2,1,0,1,2,1,0,2,2,0,1,0,1] # 0: sleeping, 1: eating, 2: pooping\n",
    "obs_dict = {\n",
    "    0: 'sleeping', \n",
    "    1: 'eating',\n",
    "    2: 'pooping'\n",
    "}\n",
    "states = (0, 1) # healthy, sick\n",
    "start_p = np.array([0.5, 0.5])\n",
    "trans_p = np.array([[0.7, 0.3],\n",
    "                    [0.4, 0.6]])\n",
    "emit_p = np.array([[0.2, 0.6, 0.2],\n",
    "                   [0.4, 0.1, 0.5]])"
   ]
  },
  {
   "cell_type": "code",
   "execution_count": 432,
   "metadata": {},
   "outputs": [
    {
     "name": "stdout",
     "output_type": "stream",
     "text": [
      "[0 0 0 0 0 0 0 0 0 1 1 1 0 0 0]\n",
      "eating     -> healthy\n",
      "eating     -> healthy\n",
      "pooping    -> healthy\n",
      "eating     -> healthy\n",
      "sleeping   -> healthy\n",
      "eating     -> healthy\n",
      "pooping    -> healthy\n",
      "eating     -> healthy\n",
      "sleeping   -> healthy\n",
      "pooping    -> sick\n",
      "pooping    -> sick\n",
      "sleeping   -> sick\n",
      "eating     -> healthy\n",
      "sleeping   -> healthy\n",
      "eating     -> healthy\n"
     ]
    }
   ],
   "source": [
    "paths, _, _ = viterbi(obs, states, start_p, trans_p, emit_p)\n",
    "print(paths)\n",
    "for i, p in enumerate(paths):\n",
    "    print(f'{obs_dict[obs[i]]:10} -> {states_dict[p]}')"
   ]
  },
  {
   "cell_type": "code",
   "execution_count": 433,
   "metadata": {},
   "outputs": [],
   "source": [
    "obs = (0, 1, 2) # 0: normal, 1: cold, 2: dizzy\n",
    "states = (0, 1) # 0: Healthy, 1: Fever\n",
    "\n",
    "# start_p[initial_state]\n",
    "start_p = np.array([0.6, 0.4])\n",
    "\n",
    "# trans_p[from_state][to_state]\n",
    "trans_p = np.array([[0.7, 0.3],\n",
    "                    [0.4, 0.6]])\n",
    "\n",
    "# emit_p[state][observation]\n",
    "emit_p = np.array([[0.5, 0.4, 0.1],\n",
    "                   [0.1, 0.3, 0.6]])"
   ]
  },
  {
   "cell_type": "code",
   "execution_count": 437,
   "metadata": {},
   "outputs": [
    {
     "name": "stdout",
     "output_type": "stream",
     "text": [
      "[0 0 1]\n",
      "[[0.3     0.084   0.00588]\n",
      " [0.04    0.027   0.01512]]\n"
     ]
    }
   ],
   "source": [
    "paths, result, _ = viterbi(obs, states, start_p, trans_p, emit_p)\n",
    "print(paths)\n",
    "print(result)"
   ]
  },
  {
   "cell_type": "code",
   "execution_count": 442,
   "metadata": {},
   "outputs": [
    {
     "name": "stdout",
     "output_type": "stream",
     "text": [
      "[0 1 1 1 1]\n",
      "[[2.40000e-01 1.68000e-02 8.64000e-03 2.41920e-03 1.69344e-04]\n",
      " [1.20000e-01 4.32000e-02 2.59200e-03 7.77600e-04 4.35456e-04]]\n"
     ]
    }
   ],
   "source": [
    "paths, result, _ = viterbi((1,2,0,1,2), states, start_p, trans_p, emit_p)\n",
    "print(paths)\n",
    "print(result)"
   ]
  },
  {
   "cell_type": "code",
   "execution_count": 443,
   "metadata": {},
   "outputs": [
    {
     "data": {
      "text/plain": [
       "2"
      ]
     },
     "execution_count": 443,
     "metadata": {},
     "output_type": "execute_result"
    }
   ],
   "source": [
    "np.argmax([1,2,35])"
   ]
  },
  {
   "cell_type": "code",
   "execution_count": 425,
   "metadata": {},
   "outputs": [
    {
     "data": {
      "text/plain": [
       "array([1, 1, 1])"
      ]
     },
     "execution_count": 425,
     "metadata": {},
     "output_type": "execute_result"
    }
   ],
   "source": [
    "A = np.array([[1,2,3], [4,5,6]])\n",
    "np.argmax(A, axis=0) # Find the max index for the given columns."
   ]
  },
  {
   "cell_type": "code",
   "execution_count": 426,
   "metadata": {},
   "outputs": [
    {
     "data": {
      "text/plain": [
       "array([2, 2])"
      ]
     },
     "execution_count": 426,
     "metadata": {},
     "output_type": "execute_result"
    }
   ],
   "source": [
    "np.argmax(A, axis=1) # Find the max index for the given rows."
   ]
  },
  {
   "cell_type": "code",
   "execution_count": 427,
   "metadata": {},
   "outputs": [
    {
     "data": {
      "text/plain": [
       "array([4, 5, 6])"
      ]
     },
     "execution_count": 427,
     "metadata": {},
     "output_type": "execute_result"
    }
   ],
   "source": [
    "np.max(A, axis=0) # Find the max index for the given rows."
   ]
  },
  {
   "cell_type": "code",
   "execution_count": 428,
   "metadata": {},
   "outputs": [
    {
     "data": {
      "text/plain": [
       "array([16, 40, 72])"
      ]
     },
     "execution_count": 428,
     "metadata": {},
     "output_type": "execute_result"
    }
   ],
   "source": [
    "A = np.array([1,2,3])\n",
    "B = np.array([4,5,6])\n",
    "np.multiply(A, B) * 4"
   ]
  },
  {
   "cell_type": "code",
   "execution_count": null,
   "metadata": {},
   "outputs": [],
   "source": []
  }
 ],
 "metadata": {
  "kernelspec": {
   "display_name": "Python 3",
   "language": "python",
   "name": "python3"
  },
  "language_info": {
   "codemirror_mode": {
    "name": "ipython",
    "version": 3
   },
   "file_extension": ".py",
   "mimetype": "text/x-python",
   "name": "python",
   "nbconvert_exporter": "python",
   "pygments_lexer": "ipython3",
   "version": "3.7.3"
  }
 },
 "nbformat": 4,
 "nbformat_minor": 2
}
