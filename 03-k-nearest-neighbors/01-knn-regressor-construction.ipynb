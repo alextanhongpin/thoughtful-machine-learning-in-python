{
 "cells": [
  {
   "cell_type": "code",
   "execution_count": 1,
   "metadata": {},
   "outputs": [],
   "source": [
    "from pandas import Series, DataFrame\n",
    "import pandas as pd\n",
    "import numpy as np\n",
    "import numpy.random as npr\n",
    "import random\n",
    "\n",
    "from scipy.spatial import KDTree\n",
    "from sklearn.metrics import mean_absolute_error\n",
    "import sys"
   ]
  },
  {
   "cell_type": "code",
   "execution_count": 2,
   "metadata": {},
   "outputs": [],
   "source": [
    "# Set a higher recursion limit since KDTree will recurse and \n",
    "# throw an error otherwise\n",
    "sys.setrecursionlimit(10000)"
   ]
  },
  {
   "cell_type": "code",
   "execution_count": null,
   "metadata": {},
   "outputs": [],
   "source": [
    "class Regression:\n",
    "    def __init__(self, csv_file = None, data = None, values = None):\n",
    "        if (data is None and csv_file is not None):\n",
    "            df = pd.read_csv(csv_file)\n",
    "            self.values = df['AppraisedValue']\n",
    "            df = df.drop('AppraisedValue', 1)\n",
    "            df = (df - df.mean()) / (df.max() - df.min())\n",
    "            self.df = df\n",
    "            self.df = self.df[['lat', 'long', 'SqFtLot']]\n",
    "        elif (data is not None and values is not None):\n",
    "            self.df = data\n",
    "            self.values = values\n",
    "        else:\n",
    "            raise ValueError('Must have either csv_file or data set')\n",
    "        \n",
    "        self.n = len(self.df)\n",
    "        self.kdtree = KDTree(self.df)\n",
    "        self.metric = np.mean\n",
    "        self.k = 5\n",
    "    \n",
    "    def regress(self, query_point):\n",
    "        distances, indexes = self.kdtree.query(query_point, self.k)\n",
    "        m = self.metric(self.values.iloc[indexes])\n",
    "        if np.isnan(m):\n",
    "            zomg\n",
    "        else:\n",
    "            return m\n",
    "    \n",
    "    def error_rate(self, folds):\n",
    "        holdout = 1 / float(folds)\n",
    "        errors = []\n",
    "        for fold in range(folds):\n",
    "            y_hat, y_true = self.__validation_data(holdout)\n",
    "            errors.append(mean_absolute_error(y_true, y_hat))\n",
    "        return errors\n",
    "\n",
    "    def __validation_data(self, holdout):\n",
    "        test_rows = random.sample(self.df.index.tolist(), int(round(len(self.df) * holdout)))\n",
    "        train_rows = set(range(len(self.df))) - set(test_rows)\n",
    "        df_test = self.df.loc[test_rows] # Change to loc\n",
    "        df_train = self.df.drop(test_rows)\n",
    "        test_values = self.values.loc[test_rows]\n",
    "        train_values = self.values.loc[train_rows]\n",
    "        kd = Regression(data=df_train, values=train_values)\n",
    "        \n",
    "        y_hat = []\n",
    "        y_actual = []\n",
    "        \n",
    "        for idx, row in df_test.iterrows():\n",
    "            y_hat.append(kd.regress(row))\n",
    "            y_actual.append(self.values[idx])\n",
    "        \n",
    "        return (y_hat, y_actual)\n",
    "    \n",
    "    def plot_error_rates(self):\n",
    "        folds = range(2, 11)\n",
    "        errors = pd.DataFrame({'max': 0, 'min': 0}, index=folds)\n",
    "        for f in folds:\n",
    "            error_rates = self.error_rate(f)\n",
    "            errors['max'][f] = max(error_rates)\n",
    "            errors['min'][f] = min(error_rates)\n",
    "        errors.plot(title='Mean Absolute Error of KNN over different folds')\n",
    "        plt.show()"
   ]
  },
  {
   "cell_type": "code",
   "execution_count": null,
   "metadata": {},
   "outputs": [],
   "source": [
    "regression = Regression(csv_file='king_county_data_geocoded.csv')\n",
    "regression.plot_error_rates()"
   ]
  }
 ],
 "metadata": {
  "kernelspec": {
   "display_name": "Python 3",
   "language": "python",
   "name": "python3"
  },
  "language_info": {
   "codemirror_mode": {
    "name": "ipython",
    "version": 3
   },
   "file_extension": ".py",
   "mimetype": "text/x-python",
   "name": "python",
   "nbconvert_exporter": "python",
   "pygments_lexer": "ipython3",
   "version": "3.6.3"
  }
 },
 "nbformat": 4,
 "nbformat_minor": 2
}
