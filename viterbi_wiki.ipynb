{
 "cells": [
  {
   "cell_type": "code",
   "execution_count": 6,
   "metadata": {},
   "outputs": [],
   "source": [
    "def viterbi(obs, \n",
    "            states, \n",
    "            start_p,\n",
    "            observations,\n",
    "            trans_p,\n",
    "            emit_p):\n",
    "    V = [{}]\n",
    "    # We are going to iterate through all the observations,\n",
    "    # starting from normal. \n",
    "    # Calculate the probability for the given states.\n",
    "    for i, st in enumerate(states):\n",
    "        V[0][st] = {'prob': start_p[st] * emit_p[st][obs[0]], \n",
    "                    'prev': None} \n",
    "        \n",
    "    # For the rest of the observations.\n",
    "    for t in range(1, len(obs)):\n",
    "        V.append({})\n",
    "        for st in states:\n",
    "            # Take the first state and calculate the probability.\n",
    "            # Use it as the initial guess.\n",
    "            max_tr_prob = V[t-1][states[0]]['prob'] * trans_p[states[0]][st]\n",
    "            prev_st_selected = states[0]\n",
    "\n",
    "            # Now loop through the remaining states and compare the probability.\n",
    "            # Take the one with the highest probability.\n",
    "            for prev_st in states[1:]:\n",
    "                tr_prob = V[t-1][prev_st]['prob'] * trans_p[prev_st][st]\n",
    "                if tr_prob > max_tr_prob:\n",
    "                    max_tr_prob = tr_prob\n",
    "                    prev_st_selected = prev_st\n",
    "\n",
    "            max_prob = max_tr_prob * emit_p[st][obs[t]]\n",
    "            V[t][st] = {'prob': max_prob,\n",
    "                        'prev': prev_st_selected}\n",
    "    for line in dptable(V):\n",
    "        print(line)\n",
    "\n",
    "    opt = []\n",
    "    # The highest probability.\n",
    "    max_prob = max(value['prob']\n",
    "                   for value in V[-1].values())\n",
    "    max_prob\n",
    "    # Get the most probable state and its backtrack.\n",
    "    for st, data in V[-1].items():\n",
    "        if data['prob'] == max_prob:\n",
    "            opt.append(st)\n",
    "            previous = st\n",
    "            break\n",
    "    # Follow the backtrack until the first observation. \n",
    "    # Minus 2, since we exclude the last result.\n",
    "    for t in range(len(V) - 2, -1, -1):\n",
    "        opt.insert(0, V[t+1][previous]['prev'])\n",
    "        previous = V[t+1][previous]['prev']\n",
    "    print(f'The step of states are {\" \".join(opt)} with the probability of {max_prob}')\n",
    "    return V, [states.index(o) for o in opt]"
   ]
  },
  {
   "cell_type": "code",
   "execution_count": 7,
   "metadata": {},
   "outputs": [],
   "source": [
    "def dptable(V):\n",
    "    header = [f'{\"\":12s}'] + [f'{str(i):12s}' for i in range(len(V))]\n",
    "    yield ' '.join(header)\n",
    "    \n",
    "    for state in V[0].keys():\n",
    "        row = [f'{state:12s}'] + [f'{str(round(d[state][\"prob\"], 5)):12s}' \n",
    "                                  for d in V]\n",
    "        yield ' '.join(row)\n",
    "\n",
    "    yield ''\n",
    "    for state in V[0].keys():\n",
    "        row = [f'{state:12s}'] + [f'{str(d[state][\"prev\"]):12s}' \n",
    "                                  for d in V]\n",
    "        yield ' '.join(row)"
   ]
  },
  {
   "cell_type": "code",
   "execution_count": 8,
   "metadata": {},
   "outputs": [],
   "source": [
    "obs = ('normal', 'cold', 'dizzy')\n",
    "states = ('Healthy', 'Fever')\n",
    "start_p = {'Healthy': 0.6,\n",
    "           'Fever': 0.4}\n",
    "trans_p = {'Healthy': {'Healthy': 0.7, 'Fever': 0.3},\n",
    "           'Fever': {'Healthy': 0.4, 'Fever': 0.6}}\n",
    "emit_p = {'Healthy': {'normal': 0.5, 'cold': 0.4, 'dizzy': 0.1},\n",
    "          'Fever': {'normal': 0.1, 'cold': 0.3, 'dizzy': 0.6}}"
   ]
  },
  {
   "cell_type": "code",
   "execution_count": 13,
   "metadata": {},
   "outputs": [
    {
     "name": "stdout",
     "output_type": "stream",
     "text": [
      "             0            1            2           \n",
      "Healthy      0.3          0.084        0.00588     \n",
      "Fever        0.04         0.027        0.01512     \n",
      "\n",
      "Healthy      None         Healthy      Healthy     \n",
      "Fever        None         Healthy      Healthy     \n",
      "The step of states are Healthy Healthy Fever with the probability of 0.01512\n"
     ]
    },
    {
     "data": {
      "text/plain": [
       "[0, 0, 1]"
      ]
     },
     "execution_count": 13,
     "metadata": {},
     "output_type": "execute_result"
    }
   ],
   "source": [
    "result, path = viterbi(obs, states, start_p, obs, trans_p, emit_p)\n",
    "path"
   ]
  },
  {
   "cell_type": "code",
   "execution_count": 14,
   "metadata": {},
   "outputs": [
    {
     "name": "stdout",
     "output_type": "stream",
     "text": [
      "['normal', 'cold', 'dizzy', 'cold', 'dizzy']\n",
      "             0            1            2            3            4           \n",
      "Healthy      0.3          0.084        0.00588      0.00242      0.00017     \n",
      "Fever        0.04         0.027        0.01512      0.00272      0.00098     \n",
      "\n",
      "Healthy      None         Healthy      Healthy      Fever        Healthy     \n",
      "Fever        None         Healthy      Healthy      Fever        Fever       \n",
      "The step of states are Healthy Healthy Fever Fever Fever with the probability of 0.000979776\n"
     ]
    },
    {
     "data": {
      "text/plain": [
       "[0, 0, 1, 1, 1]"
      ]
     },
     "execution_count": 14,
     "metadata": {},
     "output_type": "execute_result"
    }
   ],
   "source": [
    "newobs = [obs[o] for o in [0,1,2,1,2]]\n",
    "print(newobs)\n",
    "result, path = viterbi(newobs, states, start_p, obs, trans_p, emit_p)\n",
    "path"
   ]
  },
  {
   "cell_type": "code",
   "execution_count": 15,
   "metadata": {},
   "outputs": [
    {
     "name": "stdout",
     "output_type": "stream",
     "text": [
      "['normal', 'dizzy', 'cold', 'dizzy', 'cold']\n",
      "             0            1            2            3            4           \n",
      "Healthy      0.3          0.021        0.00864      0.0006       0.00056     \n",
      "Fever        0.04         0.054        0.00972      0.0035       0.00063     \n",
      "\n",
      "Healthy      None         Healthy      Fever        Healthy      Fever       \n",
      "Fever        None         Healthy      Fever        Fever        Fever       \n",
      "The step of states are Healthy Fever Fever Fever Fever with the probability of 0.0006298559999999999\n"
     ]
    },
    {
     "data": {
      "text/plain": [
       "[0, 1, 1, 1, 1]"
      ]
     },
     "execution_count": 15,
     "metadata": {},
     "output_type": "execute_result"
    }
   ],
   "source": [
    "newobs = [obs[o] for o in [0,2,1,2,1]]\n",
    "print(newobs)\n",
    "result, path = viterbi(newobs, states, start_p, obs, trans_p, emit_p)\n",
    "path"
   ]
  },
  {
   "cell_type": "code",
   "execution_count": 20,
   "metadata": {},
   "outputs": [],
   "source": [
    "obs = ('sleeping', 'eating', 'pooping')\n",
    "\n",
    "obs_map = [obs[i] for i in [1,1,2,1,0,1,2,1,0,2,2,0,1,0,1]]\n",
    "\n",
    "states = ('Healthy', 'Fever')\n",
    "\n",
    "start_p = {'Healthy': 0.5,\n",
    "           'Fever': 0.5}\n",
    "trans_p = {'Healthy': {'Healthy': 0.7, 'Fever': 0.3},\n",
    "           'Fever': {'Healthy': 0.4, 'Fever': 0.6}}\n",
    "emit_p = {'Healthy': {'sleeping': 0.2, 'eating': 0.6, 'pooping': 0.2},\n",
    "          'Fever': {'sleeping': 0.4, 'eating': 0.1, 'pooping': 0.5}}"
   ]
  },
  {
   "cell_type": "code",
   "execution_count": 21,
   "metadata": {},
   "outputs": [
    {
     "name": "stdout",
     "output_type": "stream",
     "text": [
      "             0            1            2            3            4            5            6            7            8            9            10           11           12           13           14          \n",
      "Healthy      0.3          0.126        0.01764      0.00741      0.00104      0.00044      6e-05        3e-05        0.0          0.0          0.0          0.0          0.0          0.0          0.0         \n",
      "Fever        0.05         0.009        0.0189       0.00113      0.00089      5e-05        7e-05        0.0          0.0          0.0          0.0          0.0          0.0          0.0          0.0         \n",
      "\n",
      "Healthy      None         Healthy      Healthy      Healthy      Healthy      Healthy      Healthy      Healthy      Healthy      Healthy      Fever        Fever        Fever        Healthy      Healthy     \n",
      "Fever        None         Healthy      Healthy      Fever        Healthy      Fever        Healthy      Fever        Healthy      Fever        Fever        Fever        Fever        Healthy      Fever       \n",
      "The step of states are Healthy Healthy Healthy Healthy Healthy Healthy Healthy Healthy Fever Fever Fever Fever Healthy Healthy Healthy with the probability of 9.369708683891833e-10\n"
     ]
    },
    {
     "data": {
      "text/plain": [
       "[0, 0, 0, 0, 0, 0, 0, 0, 1, 1, 1, 1, 0, 0, 0]"
      ]
     },
     "execution_count": 21,
     "metadata": {},
     "output_type": "execute_result"
    }
   ],
   "source": [
    "result, path = viterbi(obs_map, states, start_p, obs, trans_p, emit_p)\n",
    "path"
   ]
  },
  {
   "cell_type": "code",
   "execution_count": null,
   "metadata": {},
   "outputs": [],
   "source": []
  }
 ],
 "metadata": {
  "kernelspec": {
   "display_name": "Python 3",
   "language": "python",
   "name": "python3"
  },
  "language_info": {
   "codemirror_mode": {
    "name": "ipython",
    "version": 3
   },
   "file_extension": ".py",
   "mimetype": "text/x-python",
   "name": "python",
   "nbconvert_exporter": "python",
   "pygments_lexer": "ipython3",
   "version": "3.7.3"
  }
 },
 "nbformat": 4,
 "nbformat_minor": 2
}
