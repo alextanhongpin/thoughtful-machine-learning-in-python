{
 "cells": [
  {
   "cell_type": "code",
   "execution_count": 58,
   "metadata": {},
   "outputs": [],
   "source": [
    "%matplotlib inline\n",
    "\n",
    "from sklearn.ensemble import RandomForestClassifier\n",
    "from sklearn.tree import DecisionTreeClassifier, DecisionTreeRegressor\n",
    "from numpy.random import permutation\n",
    "from numpy import array_split, concatenate\n",
    "from sklearn.metrics import roc_curve, auc, mean_squared_error\n",
    "import pandas as pd\n",
    "import numpy as np"
   ]
  },
  {
   "cell_type": "code",
   "execution_count": 59,
   "metadata": {},
   "outputs": [],
   "source": [
    "class MushroomProblem:\n",
    "    def __init__(self, data_file):\n",
    "        self.df = pd.read_csv(data_file)\n",
    "        for k in self.df.columns[1:]:\n",
    "            self.df[k], _ = pd.factorize(self.df[k])\n",
    "        \n",
    "        sorted_cats = sorted(pd.Categorical(self.df['class']).categories)\n",
    "        self.classes = np.array(sorted_cats)\n",
    "        self.features = self.df.columns[self.df.columns != 'class']\n",
    "    \n",
    "    def __factorize(self, data):\n",
    "        y, _ = pd.factorize(pd.Categorical(data['class']), sort=True)\n",
    "        return y\n",
    "        \n",
    "    def validation_data(self, fold):\n",
    "        df = self.df\n",
    "        response = []\n",
    "        assert len(df) > folds\n",
    "        \n",
    "        # Create a permutation of the indices with the given len.\n",
    "        # Split into list into n-folds.\n",
    "        perms = array_split(permutation(len(df)), folds)\n",
    "        \n",
    "        for i in range(folds):\n",
    "            # Let fold i be the testing data.\n",
    "            train_idxs = list(range(folds))\n",
    "            train_idxs.pop(i)\n",
    "\n",
    "            # Let the remaining be the training data.\n",
    "            train = []\n",
    "            for idx in train_idxs:\n",
    "                train.append(perms[idx])\n",
    "            \n",
    "            # Flatten the lists.\n",
    "            train = concatenate(train)\n",
    "            \n",
    "            test_idx = perms[i]\n",
    "            \n",
    "            # Select the rows with the given indices.\n",
    "            training = df.iloc[train]\n",
    "            test_data = df.iloc[test_idx]\n",
    "            \n",
    "            y = self.__factorize(training)\n",
    "            classifier = self.train(training[self.features], y)\n",
    "            predictions = classifier.predict(test_data[self.features])\n",
    "            \n",
    "            expected = self.__factorize(test_data)\n",
    "            response.append([predictions, expected])\n",
    "\n",
    "        return response"
   ]
  },
  {
   "cell_type": "code",
   "execution_count": 60,
   "metadata": {},
   "outputs": [],
   "source": [
    "class MushroomRegression(MushroomProblem):\n",
    "    def train(self, X, y):\n",
    "        reg = DecisionTreeRegressor()\n",
    "        reg = reg.fit(X, y)\n",
    "        return reg\n",
    "\n",
    "    def validate(self, folds):\n",
    "        responses = []\n",
    "        \n",
    "        for y_true, y_pred in self.validation_data(folds):\n",
    "            responses.append(mean_squared_error(y_true, y_pred))\n",
    "    \n",
    "        return responses"
   ]
  },
  {
   "cell_type": "code",
   "execution_count": 61,
   "metadata": {},
   "outputs": [],
   "source": [
    "class MushroomClassifier(MushroomProblem):\n",
    "    def validate(self, folds):\n",
    "        confusion_matrices = []\n",
    "        \n",
    "        for test, training in self.validation_data(folds):\n",
    "            confusion_matrices.append(self.confusion_matrix(training, test))\n",
    "        \n",
    "        return confusion_matrices\n",
    "\n",
    "    def confusion_matrix(self, train, test):\n",
    "        return pd.crosstab(test, train, rownames=['actual'], colnames=['preds'])"
   ]
  },
  {
   "cell_type": "code",
   "execution_count": 62,
   "metadata": {},
   "outputs": [],
   "source": [
    "class MushroomForest(MushroomClassifier):\n",
    "    def train(self, X, y):\n",
    "        clf = RandomForestClassifier(n_jobs=2)\n",
    "        clf = clf.fit(X, y)\n",
    "        return clf"
   ]
  },
  {
   "cell_type": "code",
   "execution_count": 63,
   "metadata": {},
   "outputs": [],
   "source": [
    "class MushroomTree(MushroomClassifier):\n",
    "    def train(self, X, y):\n",
    "        clf = DecisionTreeClassifier()\n",
    "        clf = clf.fit(X, y)\n",
    "        return clf"
   ]
  },
  {
   "cell_type": "code",
   "execution_count": 64,
   "metadata": {},
   "outputs": [
    {
     "name": "stdout",
     "output_type": "stream",
     "text": [
      "Calculating score for decision tree\n"
     ]
    },
    {
     "data": {
      "text/plain": [
       "[preds     0    1\n",
       " actual          \n",
       " 0       853    0\n",
       " 1         0  772, preds     0    1\n",
       " actual          \n",
       " 0       794    0\n",
       " 1         0  831, preds     0    1\n",
       " actual          \n",
       " 0       867    0\n",
       " 1         0  758, preds     0    1\n",
       " actual          \n",
       " 0       854    0\n",
       " 1         0  771, preds     0    1\n",
       " actual          \n",
       " 0       840    0\n",
       " 1         0  784]"
      ]
     },
     "execution_count": 64,
     "metadata": {},
     "output_type": "execute_result"
    }
   ],
   "source": [
    "data = './data/decision_tree/agaricus-lepiota.data'\n",
    "folds = 5\n",
    "\n",
    "print('Calculating score for decision tree')\n",
    "tree = MushroomTree(data)\n",
    "tree.validate(folds)"
   ]
  },
  {
   "cell_type": "code",
   "execution_count": 66,
   "metadata": {},
   "outputs": [
    {
     "name": "stdout",
     "output_type": "stream",
     "text": [
      "Calculating score for random forest\n"
     ]
    },
    {
     "name": "stderr",
     "output_type": "stream",
     "text": [
      "/usr/local/lib/python3.7/site-packages/sklearn/ensemble/forest.py:245: FutureWarning: The default value of n_estimators will change from 10 in version 0.20 to 100 in 0.22.\n",
      "  \"10 in version 0.20 to 100 in 0.22.\", FutureWarning)\n",
      "/usr/local/lib/python3.7/site-packages/sklearn/ensemble/forest.py:245: FutureWarning: The default value of n_estimators will change from 10 in version 0.20 to 100 in 0.22.\n",
      "  \"10 in version 0.20 to 100 in 0.22.\", FutureWarning)\n",
      "/usr/local/lib/python3.7/site-packages/sklearn/ensemble/forest.py:245: FutureWarning: The default value of n_estimators will change from 10 in version 0.20 to 100 in 0.22.\n",
      "  \"10 in version 0.20 to 100 in 0.22.\", FutureWarning)\n",
      "/usr/local/lib/python3.7/site-packages/sklearn/ensemble/forest.py:245: FutureWarning: The default value of n_estimators will change from 10 in version 0.20 to 100 in 0.22.\n",
      "  \"10 in version 0.20 to 100 in 0.22.\", FutureWarning)\n",
      "/usr/local/lib/python3.7/site-packages/sklearn/ensemble/forest.py:245: FutureWarning: The default value of n_estimators will change from 10 in version 0.20 to 100 in 0.22.\n",
      "  \"10 in version 0.20 to 100 in 0.22.\", FutureWarning)\n"
     ]
    },
    {
     "data": {
      "text/plain": [
       "[preds     0    1\n",
       " actual          \n",
       " 0       835    0\n",
       " 1         0  790, preds     0    1\n",
       " actual          \n",
       " 0       828    0\n",
       " 1         0  797, preds     0    1\n",
       " actual          \n",
       " 0       846    0\n",
       " 1         0  779, preds     0    1\n",
       " actual          \n",
       " 0       856    0\n",
       " 1         0  769, preds     0    1\n",
       " actual          \n",
       " 0       843    0\n",
       " 1         0  781]"
      ]
     },
     "execution_count": 66,
     "metadata": {},
     "output_type": "execute_result"
    }
   ],
   "source": [
    "print('Calculating score for random forest')\n",
    "tree = MushroomForest(data)\n",
    "tree.validate(folds)"
   ]
  },
  {
   "cell_type": "code",
   "execution_count": 67,
   "metadata": {},
   "outputs": [
    {
     "name": "stdout",
     "output_type": "stream",
     "text": [
      "Calculating score for regression\n"
     ]
    },
    {
     "data": {
      "text/plain": [
       "[0.0, 0.0, 0.0, 0.0, 0.0]"
      ]
     },
     "execution_count": 67,
     "metadata": {},
     "output_type": "execute_result"
    }
   ],
   "source": [
    "print('Calculating score for regression')\n",
    "tree = MushroomRegression(data)\n",
    "tree.validate(folds)"
   ]
  },
  {
   "cell_type": "code",
   "execution_count": null,
   "metadata": {},
   "outputs": [],
   "source": []
  }
 ],
 "metadata": {
  "kernelspec": {
   "display_name": "Python 3",
   "language": "python",
   "name": "python3"
  },
  "language_info": {
   "codemirror_mode": {
    "name": "ipython",
    "version": 3
   },
   "file_extension": ".py",
   "mimetype": "text/x-python",
   "name": "python",
   "nbconvert_exporter": "python",
   "pygments_lexer": "ipython3",
   "version": "3.7.3"
  }
 },
 "nbformat": 4,
 "nbformat_minor": 2
}
