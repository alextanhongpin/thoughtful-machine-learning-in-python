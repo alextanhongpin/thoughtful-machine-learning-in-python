{
 "cells": [
  {
   "cell_type": "code",
   "execution_count": 50,
   "metadata": {},
   "outputs": [],
   "source": [
    "import unittest\n",
    "import io\n",
    "import re\n",
    "import email\n",
    "\n",
    "from bs4 import BeautifulSoup"
   ]
  },
  {
   "cell_type": "code",
   "execution_count": 51,
   "metadata": {},
   "outputs": [],
   "source": [
    "class EmailObject(object):\n",
    "    CLRF = \"\\n\\r\\n\\r\"\n",
    "    def __init__(self, filepath, category = None):\n",
    "        self.filepath = filepath\n",
    "        self.category = category\n",
    "        self.mail = email.message_from_binary_file(self.filepath)\n",
    "    \n",
    "    def subject(self):\n",
    "        return self.mail.get('Subject')\n",
    "    \n",
    "    def body(self):\n",
    "        payload = self.mail.get_payload()\n",
    "        if self.mail.is_multipart():\n",
    "            parts = [self._single_body(part) for part in list(payload)]\n",
    "        else:\n",
    "            parts = [self._single_body(self.mail)]\n",
    "        decoded_parts = []\n",
    "        for part in parts:\n",
    "            if len(part) == 0:\n",
    "                continue\n",
    "            if isinstance(part, bytes):\n",
    "                decoded_parts.append(part.decode('utf-8', errors = 'ignore'))\n",
    "            else:\n",
    "                decoded_parts.append(part)\n",
    "        return self.CLRF.join(decoded_parts)\n",
    "    \n",
    "    @staticmethod\n",
    "    def _single_body(part):\n",
    "        content_type = part.get_content_type()\n",
    "        try:\n",
    "            body = part.get_payload(decode = True)\n",
    "        except Exception:\n",
    "            return ''\n",
    "        \n",
    "        if content_type == 'text/html':\n",
    "            return BeautifulSoup(body, 'html.parser').text\n",
    "        elif content_type == 'text/plain':\n",
    "            return body\n",
    "        return ''"
   ]
  },
  {
   "cell_type": "code",
   "execution_count": 52,
   "metadata": {},
   "outputs": [],
   "source": [
    "class Tokenizer:\n",
    "    NULL = u'\\u0000'\n",
    "    \n",
    "    @staticmethod\n",
    "    def tokenize(string):\n",
    "        return re.findall('\\w+', string.lower())\n",
    "    \n",
    "    @staticmethod\n",
    "    def ngram(string, ngram):\n",
    "        tokens = Tokenizer.tokenize(string)\n",
    "        \n",
    "        ngrams = []\n",
    "        \n",
    "        for i in range(len(tokens)):\n",
    "            shift = i - ngram + 1\n",
    "            padding = max(-shift, 0)\n",
    "            first_idx = max(shift, 0)\n",
    "            last_idx = first_idx + ngram - padding\n",
    "        \n",
    "            ngrams.append(Tokenizer.pad(tokens[first_idx:last_idx], padding))\n",
    "            \n",
    "        return ngrams\n",
    "    \n",
    "    @staticmethod\n",
    "    def pad(tokens, padding):\n",
    "        padded_tokens = []\n",
    "        \n",
    "        for i in range(padding):\n",
    "            padded_tokens.append(Tokenizer.NULL)\n",
    "        \n",
    "        return padded_tokens + tokens"
   ]
  },
  {
   "cell_type": "code",
   "execution_count": 53,
   "metadata": {},
   "outputs": [],
   "source": [
    "class TestPlaintextEmailObject(unittest.TestCase):\n",
    "    CLRF = '\\n\\n'\n",
    "    def setUp(self):\n",
    "        self.plain_file = './plain.eml'\n",
    "        \n",
    "        with io.open(self.plain_file, 'rb') as plaintext:\n",
    "            self.text = plaintext.read().decode('utf-8')\n",
    "            plaintext.seek(0)\n",
    "            self.plain_email = EmailObject(plaintext)\n",
    "    \n",
    "    def test_parse_plain_body(self):\n",
    "        body = self.CLRF.join(self.text.split(self.CLRF)[1:])\n",
    "        self.assertEqual(self.plain_email.body(), body)\n",
    "    \n",
    "    def test_parses_the_subject(self):\n",
    "        subject = re.search(\"Subject: (.*)\", self.text).group(1)\n",
    "        self.assertEqual(self.plain_email.subject(), subject)"
   ]
  },
  {
   "cell_type": "code",
   "execution_count": 54,
   "metadata": {},
   "outputs": [],
   "source": [
    "class TestHTMLEmail(unittest.TestCase):\n",
    "    CLRF = '\\n\\n'\n",
    "    def setUp(self):\n",
    "        with io.open('./html.eml', 'rb') as html_file:\n",
    "            self.html = html_file.read().decode('utf-8')\n",
    "            html_file.seek(0)\n",
    "            self.html_email = EmailObject(html_file)\n",
    "\n",
    "    def test_parses_stores_inner_text_html(self):\n",
    "        body = self.CLRF.join(self.html.split(self.CLRF)[1:])\n",
    "        expected = BeautifulSoup(body, 'html.parser').text\n",
    "        actual = self.html_email.body()\n",
    "        self.assertEqual(actual, expected)\n",
    "        \n",
    "    def test_stores_subject(self):\n",
    "        subject = re.search('Subject: (.*)', self.html).group(1)\n",
    "        self.assertEqual(self.html_email.subject(), subject)"
   ]
  },
  {
   "cell_type": "code",
   "execution_count": 55,
   "metadata": {},
   "outputs": [],
   "source": [
    "class TestTokenizer(unittest.TestCase):\n",
    "    def setUp(self):\n",
    "        self.string = 'this is a test of the emergency broadcasting system'\n",
    "    \n",
    "    def test_downcasing(self):\n",
    "        expected = ['this', 'is', 'all', 'caps']\n",
    "        actual = Tokenizer.tokenize('THIS IS ALL CAPS')\n",
    "        self.assertEqual(actual, expected)\n",
    "    \n",
    "    def test_ngrams(self):\n",
    "        expected = [[u'\\u0000', 'quick'], ['quick', 'brown'], ['brown', 'fox']]\n",
    "        actual = Tokenizer.ngram('quick brown fox', 2)\n",
    "        self.assertEqual(actual, expected)"
   ]
  },
  {
   "cell_type": "code",
   "execution_count": 56,
   "metadata": {},
   "outputs": [
    {
     "name": "stderr",
     "output_type": "stream",
     "text": [
      "......\n",
      "----------------------------------------------------------------------\n",
      "Ran 6 tests in 0.039s\n",
      "\n",
      "OK\n"
     ]
    }
   ],
   "source": [
    "if __name__ == '__main__':\n",
    "    unittest.main(argv = ['ignore-first-argv'], exit = False)"
   ]
  },
  {
   "cell_type": "code",
   "execution_count": null,
   "metadata": {},
   "outputs": [],
   "source": []
  }
 ],
 "metadata": {
  "kernelspec": {
   "display_name": "Python 3",
   "language": "python",
   "name": "python3"
  },
  "language_info": {
   "codemirror_mode": {
    "name": "ipython",
    "version": 3
   },
   "file_extension": ".py",
   "mimetype": "text/x-python",
   "name": "python",
   "nbconvert_exporter": "python",
   "pygments_lexer": "ipython3",
   "version": "3.6.4"
  }
 },
 "nbformat": 4,
 "nbformat_minor": 2
}
